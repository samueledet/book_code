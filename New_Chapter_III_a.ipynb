{
 "cells": [
  {
   "cell_type": "markdown",
   "metadata": {},
   "source": [
    "# Why BeautifulSoup is cool\n",
    "(at least, more than you may think). The following code is taken from [here](https://www.dataquest.io/blog/web-scraping-beautifulsoup/)"
   ]
  },
  {
   "cell_type": "markdown",
   "metadata": {},
   "source": [
    "[request](http://docs.python-requests.org/en/master/) permits to get a webpage.\n",
    "[BeautifulSoup](https://www.crummy.com/software/BeautifulSoup/bs4/doc/) navigates it."
   ]
  },
  {
   "cell_type": "code",
   "execution_count": 1,
   "metadata": {},
   "outputs": [],
   "source": [
    "from requests import get\n",
    "from bs4 import BeautifulSoup"
   ]
  },
  {
   "cell_type": "markdown",
   "metadata": {},
   "source": [
    "### Get the webpage"
   ]
  },
  {
   "cell_type": "markdown",
   "metadata": {},
   "source": [
    "[IMDB search](https://www.imdb.com/search/title)"
   ]
  },
  {
   "cell_type": "markdown",
   "metadata": {},
   "source": [
    "Look at the movies released since 2017 and order them by number of votes"
   ]
  },
  {
   "cell_type": "code",
   "execution_count": 2,
   "metadata": {},
   "outputs": [],
   "source": [
    "url = 'http://www.imdb.com/search/title?release_date=2017&sort=num_votes,desc&page=1'"
   ]
  },
  {
   "cell_type": "code",
   "execution_count": 3,
   "metadata": {},
   "outputs": [
    {
     "name": "stdout",
     "output_type": "stream",
     "text": [
      "\n",
      "\n",
      "\n",
      "<!DOCTYPE html>\n",
      "<html\n",
      "    xmlns:og=\"http://ogp.me/ns#\"\n",
      "    xmlns:fb=\"http://www.facebook.com/2008/fbml\">\n",
      "    <head>\n",
      "         \n",
      "        <meta charset=\"utf-8\">\n",
      "        <meta http-equiv=\"X-UA-Compatible\" content=\"IE=edge\">\n",
      "\n",
      "    <meta name=\"apple-itunes-app\" content=\"app-id=342792525, app-argument=imdb:///?src=mdot\">\n",
      "\n",
      "\n",
      "\n",
      "        <script type=\"text/javascript\">var IMDbTimer={starttime: new Date().getTime(),pt:'java'};</script>\n",
      "\n",
      "<script>\n",
      "    if (typeof uet == 'function') {\n",
      "      uet(\"bb\", \"LoadTitle\"\n"
     ]
    }
   ],
   "source": [
    "response = get(url)\n",
    "print response.text[:500]"
   ]
  },
  {
   "cell_type": "markdown",
   "metadata": {},
   "source": [
    "That is the structure of the HTML we want to download. [Wikipedia](https://en.wikipedia.org/wiki/HTML) can tell you something more."
   ]
  },
  {
   "cell_type": "markdown",
   "metadata": {},
   "source": [
    "### Soupify"
   ]
  },
  {
   "cell_type": "code",
   "execution_count": 4,
   "metadata": {},
   "outputs": [],
   "source": [
    "html_soup = BeautifulSoup(response.text, 'html.parser')"
   ]
  },
  {
   "cell_type": "markdown",
   "metadata": {},
   "source": [
    "What kind of variable?"
   ]
  },
  {
   "cell_type": "code",
   "execution_count": 5,
   "metadata": {},
   "outputs": [
    {
     "data": {
      "text/plain": [
       "bs4.BeautifulSoup"
      ]
     },
     "execution_count": 5,
     "metadata": {},
     "output_type": "execute_result"
    }
   ],
   "source": [
    "type(html_soup)"
   ]
  },
  {
   "cell_type": "code",
   "execution_count": 6,
   "metadata": {},
   "outputs": [],
   "source": [
    "movie_containers = html_soup.find_all('div', class_ = 'lister-item mode-advanced')"
   ]
  },
  {
   "cell_type": "code",
   "execution_count": 7,
   "metadata": {},
   "outputs": [
    {
     "name": "stdout",
     "output_type": "stream",
     "text": [
      "<class 'bs4.element.ResultSet'>\n",
      "50\n"
     ]
    }
   ],
   "source": [
    "print type(movie_containers)\n",
    "print len(movie_containers)"
   ]
  },
  {
   "cell_type": "markdown",
   "metadata": {},
   "source": [
    "Exactly the number of the film listed here!"
   ]
  },
  {
   "cell_type": "code",
   "execution_count": 8,
   "metadata": {},
   "outputs": [
    {
     "data": {
      "text/plain": [
       "<div class=\"lister-item mode-advanced\">\\n<div class=\"lister-top-right\">\\n<div class=\"ribbonize\" data-caller=\"filmosearch\" data-tconst=\"tt3315342\"></div>\\n</div>\\n<div class=\"lister-item-image float-left\">\\n<a href=\"/title/tt3315342/?ref_=adv_li_i\"> <img alt=\"Logan - The Wolverine\" class=\"loadlate\" data-tconst=\"tt3315342\" height=\"98\" loadlate=\"https://m.media-amazon.com/images/M/MV5BYzc5MTU4N2EtYTkyMi00NjdhLTg3NWEtMTY4OTEyMzJhZTAzXkEyXkFqcGdeQXVyNjc1NTYyMjg@._V1_UX67_CR0,0,67,98_AL_.jpg\" src=\"https://m.media-amazon.com/images/G/01/imdb/images/nopicture/large/film-184890147._CB470041630_.png\" width=\"67\"/>\\n</a> </div>\\n<div class=\"lister-item-content\">\\n<h3 class=\"lister-item-header\">\\n<span class=\"lister-item-index unbold text-primary\">1.</span>\\n<a href=\"/title/tt3315342/?ref_=adv_li_tt\">Logan - The Wolverine</a>\\n<span class=\"lister-item-year text-muted unbold\">(2017)</span>\\n</h3>\\n<p class=\"text-muted \">\\n<span class=\"certificate\">VM14</span>\\n<span class=\"ghost\">|</span>\\n<span class=\"runtime\">137 min</span>\\n<span class=\"ghost\">|</span>\\n<span class=\"genre\">\\nAction, Drama, Sci-Fi            </span>\\n</p>\\n<div class=\"ratings-bar\">\\n<div class=\"inline-block ratings-imdb-rating\" data-value=\"8.1\" name=\"ir\">\\n<span class=\"global-sprite rating-star imdb-rating\"></span>\\n<strong>8.1</strong>\\n</div>\\n<div class=\"inline-block ratings-user-rating\">\\n<span class=\"userRatingValue\" data-tconst=\"tt3315342\" id=\"urv_tt3315342\">\\n<span class=\"global-sprite rating-star no-rating\"></span>\\n<span class=\"rate\" data-no-rating=\"Rate this\" data-value=\"0\" name=\"ur\">Rate this</span>\\n</span>\\n<div class=\"starBarWidget\" id=\"sb_tt3315342\">\\n<div class=\"rating rating-list\" data-auth=\"\" data-ga-identifier=\"\" data-starbar-class=\"rating-list\" data-user=\"\" id=\"tt3315342|imdb|8.1|8.1|||search|title\" itemprop=\"aggregateRating\" itemscope=\"\" itemtype=\"http://schema.org/AggregateRating\" title=\"Users rated this 8.1/10 (512,052 votes) - click stars to rate\">\\n<meta content=\"8.1\" itemprop=\"ratingValue\"/>\\n<meta content=\"10\" itemprop=\"bestRating\"/>\\n<meta content=\"512052\" itemprop=\"ratingCount\"/>\\n<span class=\"rating-bg\">\\xa0</span>\\n<span class=\"rating-imdb \" style=\"width: 113.4px\">\\xa0</span>\\n<span class=\"rating-stars\">\\n<a href=\"/register/login?why=vote&amp;ref_=tt_ov_rt\" rel=\"nofollow\" title=\"Register or login to rate this title\"><span>1</span></a>\\n<a href=\"/register/login?why=vote&amp;ref_=tt_ov_rt\" rel=\"nofollow\" title=\"Register or login to rate this title\"><span>2</span></a>\\n<a href=\"/register/login?why=vote&amp;ref_=tt_ov_rt\" rel=\"nofollow\" title=\"Register or login to rate this title\"><span>3</span></a>\\n<a href=\"/register/login?why=vote&amp;ref_=tt_ov_rt\" rel=\"nofollow\" title=\"Register or login to rate this title\"><span>4</span></a>\\n<a href=\"/register/login?why=vote&amp;ref_=tt_ov_rt\" rel=\"nofollow\" title=\"Register or login to rate this title\"><span>5</span></a>\\n<a href=\"/register/login?why=vote&amp;ref_=tt_ov_rt\" rel=\"nofollow\" title=\"Register or login to rate this title\"><span>6</span></a>\\n<a href=\"/register/login?why=vote&amp;ref_=tt_ov_rt\" rel=\"nofollow\" title=\"Register or login to rate this title\"><span>7</span></a>\\n<a href=\"/register/login?why=vote&amp;ref_=tt_ov_rt\" rel=\"nofollow\" title=\"Register or login to rate this title\"><span>8</span></a>\\n<a href=\"/register/login?why=vote&amp;ref_=tt_ov_rt\" rel=\"nofollow\" title=\"Register or login to rate this title\"><span>9</span></a>\\n<a href=\"/register/login?why=vote&amp;ref_=tt_ov_rt\" rel=\"nofollow\" title=\"Register or login to rate this title\"><span>10</span></a>\\n</span>\\n<span class=\"rating-rating \"><span class=\"value\">8.1</span><span class=\"grey\">/</span><span class=\"grey\">10</span></span>\\n<span class=\"rating-cancel \"><a href=\"/title/tt3315342/vote?v=X;k=\" rel=\"nofollow\" title=\"Delete\"><span>X</span></a></span>\\n\\xa0</div>\\n</div>\\n</div>\\n<div class=\"inline-block ratings-metascore\">\\n<span class=\"metascore favorable\">77        </span>\\n        Metascore\\n            </div>\\n</div>\\n<p class=\"text-muted\">\\n    In the near future, a weary Logan cares for an ailing Professor X, somewhere on the Mexican border. However, Logan's attempts to hide from the world, and his legacy, are upended when a young mutant arrives, pursued by dark forces.</p>\\n<p class=\"\">\\n    Director:\\n<a href=\"/name/nm0003506/?ref_=adv_li_dr_0\">James Mangold</a>\\n<span class=\"ghost\">|</span> \\n    Stars:\\n<a href=\"/name/nm0413168/?ref_=adv_li_st_0\">Hugh Jackman</a>, \\n<a href=\"/name/nm0001772/?ref_=adv_li_st_1\">Patrick Stewart</a>, \\n<a href=\"/name/nm6748436/?ref_=adv_li_st_2\">Dafne Keen</a>, \\n<a href=\"/name/nm2933542/?ref_=adv_li_st_3\">Boyd Holbrook</a>\\n</p>\\n<p class=\"sort-num_votes-visible\">\\n<span class=\"text-muted\">Votes:</span>\\n<span data-value=\"512052\" name=\"nv\">512,052</span>\\n<span class=\"ghost\">|</span> <span class=\"text-muted\">Gross:</span>\\n<span data-value=\"226,277,068\" name=\"nv\">$226.28M</span>\\n</p>\\n</div>\\n</div>"
      ]
     },
     "execution_count": 8,
     "metadata": {},
     "output_type": "execute_result"
    }
   ],
   "source": [
    "first_movie = movie_containers[0]\n",
    "first_movie"
   ]
  },
  {
   "cell_type": "markdown",
   "metadata": {},
   "source": [
    "From here it is unfeasible. Go to Developer tools and look for the structure. \n",
    "Looking for the title..."
   ]
  },
  {
   "cell_type": "code",
   "execution_count": 17,
   "metadata": {},
   "outputs": [
    {
     "name": "stdout",
     "output_type": "stream",
     "text": [
      "Logan - The Wolverine\n"
     ]
    }
   ],
   "source": [
    "print first_movie.h3.a.text"
   ]
  },
  {
   "cell_type": "markdown",
   "metadata": {},
   "source": [
    "... the year ..."
   ]
  },
  {
   "cell_type": "code",
   "execution_count": 18,
   "metadata": {},
   "outputs": [
    {
     "name": "stdout",
     "output_type": "stream",
     "text": [
      "(2017)\n"
     ]
    }
   ],
   "source": [
    "print first_movie.h3.find('span', class_ = 'lister-item-year text-muted unbold').text"
   ]
  },
  {
   "cell_type": "markdown",
   "metadata": {},
   "source": [
    "... the idmb rating..."
   ]
  },
  {
   "cell_type": "code",
   "execution_count": 19,
   "metadata": {},
   "outputs": [
    {
     "name": "stdout",
     "output_type": "stream",
     "text": [
      "8.1\n"
     ]
    }
   ],
   "source": [
    "print first_movie.strong.text"
   ]
  },
  {
   "cell_type": "markdown",
   "metadata": {},
   "source": [
    "... the metascore..."
   ]
  },
  {
   "cell_type": "code",
   "execution_count": 20,
   "metadata": {},
   "outputs": [
    {
     "name": "stdout",
     "output_type": "stream",
     "text": [
      "77        \n"
     ]
    }
   ],
   "source": [
    "print first_movie.find('span', class_ = 'metascore favorable').text"
   ]
  },
  {
   "cell_type": "code",
   "execution_count": 21,
   "metadata": {},
   "outputs": [
    {
     "name": "stdout",
     "output_type": "stream",
     "text": [
      "512052\n"
     ]
    }
   ],
   "source": [
    "print first_movie.find('span', attrs = {'name':'nv'})['data-value']"
   ]
  },
  {
   "cell_type": "code",
   "execution_count": 22,
   "metadata": {},
   "outputs": [],
   "source": [
    "names = []\n",
    "years = []\n",
    "imdb_ratings = []\n",
    "metascores = []\n",
    "votes = []\n",
    "\n",
    "# Extract data from individual movie container\n",
    "for container in movie_containers:\n",
    "\n",
    "    # If the movie has Metascore, then extract:\n",
    "    if container.find('div', class_ = 'ratings-metascore') is not None:\n",
    "\n",
    "        # The name\n",
    "        name = container.h3.a.text\n",
    "        names.append(name)\n",
    "\n",
    "        # The year\n",
    "        year = container.h3.find('span', class_ = 'lister-item-year').text\n",
    "        years.append(year)\n",
    "\n",
    "        # The IMDB rating\n",
    "        imdb = float(container.strong.text)\n",
    "        imdb_ratings.append(imdb)\n",
    "\n",
    "        # The Metascore\n",
    "        m_score = container.find('span', class_ = 'metascore').text\n",
    "        metascores.append(int(m_score))\n",
    "\n",
    "        # The number of votes\n",
    "        vote = container.find('span', attrs = {'name':'nv'})['data-value']\n",
    "        votes.append(int(vote))"
   ]
  },
  {
   "cell_type": "code",
   "execution_count": 23,
   "metadata": {},
   "outputs": [],
   "source": [
    "import pandas as pd\n",
    "\n",
    "test_df = pd.DataFrame({'movie': names,\n",
    "                       'year': years,\n",
    "                       'imdb': imdb_ratings,\n",
    "                       'metascore': metascores,\n",
    "                       'votes': votes})"
   ]
  },
  {
   "cell_type": "code",
   "execution_count": 24,
   "metadata": {},
   "outputs": [
    {
     "name": "stdout",
     "output_type": "stream",
     "text": [
      "<class 'pandas.core.frame.DataFrame'>\n",
      "RangeIndex: 47 entries, 0 to 46\n",
      "Data columns (total 5 columns):\n",
      "imdb         47 non-null float64\n",
      "metascore    47 non-null int64\n",
      "movie        47 non-null object\n",
      "votes        47 non-null int64\n",
      "year         47 non-null object\n",
      "dtypes: float64(1), int64(2), object(2)\n",
      "memory usage: 1.9+ KB\n",
      "None\n"
     ]
    },
    {
     "data": {
      "text/html": [
       "<div>\n",
       "<style scoped>\n",
       "    .dataframe tbody tr th:only-of-type {\n",
       "        vertical-align: middle;\n",
       "    }\n",
       "\n",
       "    .dataframe tbody tr th {\n",
       "        vertical-align: top;\n",
       "    }\n",
       "\n",
       "    .dataframe thead th {\n",
       "        text-align: right;\n",
       "    }\n",
       "</style>\n",
       "<table border=\"1\" class=\"dataframe\">\n",
       "  <thead>\n",
       "    <tr style=\"text-align: right;\">\n",
       "      <th></th>\n",
       "      <th>imdb</th>\n",
       "      <th>metascore</th>\n",
       "      <th>movie</th>\n",
       "      <th>votes</th>\n",
       "      <th>year</th>\n",
       "    </tr>\n",
       "  </thead>\n",
       "  <tbody>\n",
       "    <tr>\n",
       "      <th>0</th>\n",
       "      <td>8.1</td>\n",
       "      <td>77</td>\n",
       "      <td>Logan - The Wolverine</td>\n",
       "      <td>512052</td>\n",
       "      <td>(2017)</td>\n",
       "    </tr>\n",
       "    <tr>\n",
       "      <th>1</th>\n",
       "      <td>7.5</td>\n",
       "      <td>76</td>\n",
       "      <td>Wonder Woman</td>\n",
       "      <td>439343</td>\n",
       "      <td>(2017)</td>\n",
       "    </tr>\n",
       "    <tr>\n",
       "      <th>2</th>\n",
       "      <td>8.0</td>\n",
       "      <td>94</td>\n",
       "      <td>Dunkirk</td>\n",
       "      <td>421681</td>\n",
       "      <td>(2017)</td>\n",
       "    </tr>\n",
       "    <tr>\n",
       "      <th>3</th>\n",
       "      <td>7.2</td>\n",
       "      <td>85</td>\n",
       "      <td>Star Wars - Gli ultimi Jedi</td>\n",
       "      <td>418627</td>\n",
       "      <td>(2017)</td>\n",
       "    </tr>\n",
       "    <tr>\n",
       "      <th>4</th>\n",
       "      <td>7.7</td>\n",
       "      <td>67</td>\n",
       "      <td>Guardiani della Galassia Vol. 2</td>\n",
       "      <td>414354</td>\n",
       "      <td>(2017)</td>\n",
       "    </tr>\n",
       "    <tr>\n",
       "      <th>5</th>\n",
       "      <td>7.9</td>\n",
       "      <td>74</td>\n",
       "      <td>Thor: Ragnarok</td>\n",
       "      <td>391613</td>\n",
       "      <td>(2017)</td>\n",
       "    </tr>\n",
       "    <tr>\n",
       "      <th>6</th>\n",
       "      <td>7.5</td>\n",
       "      <td>73</td>\n",
       "      <td>Spider-Man: Homecoming</td>\n",
       "      <td>361512</td>\n",
       "      <td>(2017)</td>\n",
       "    </tr>\n",
       "    <tr>\n",
       "      <th>7</th>\n",
       "      <td>7.7</td>\n",
       "      <td>84</td>\n",
       "      <td>Scappa: Get Out</td>\n",
       "      <td>335469</td>\n",
       "      <td>(I) (2017)</td>\n",
       "    </tr>\n",
       "    <tr>\n",
       "      <th>8</th>\n",
       "      <td>8.0</td>\n",
       "      <td>81</td>\n",
       "      <td>Blade Runner 2049</td>\n",
       "      <td>334839</td>\n",
       "      <td>(2017)</td>\n",
       "    </tr>\n",
       "    <tr>\n",
       "      <th>9</th>\n",
       "      <td>7.6</td>\n",
       "      <td>86</td>\n",
       "      <td>Baby Driver - Il genio della fuga</td>\n",
       "      <td>326930</td>\n",
       "      <td>(2017)</td>\n",
       "    </tr>\n",
       "    <tr>\n",
       "      <th>10</th>\n",
       "      <td>7.4</td>\n",
       "      <td>69</td>\n",
       "      <td>It</td>\n",
       "      <td>309582</td>\n",
       "      <td>(I) (2017)</td>\n",
       "    </tr>\n",
       "    <tr>\n",
       "      <th>11</th>\n",
       "      <td>6.6</td>\n",
       "      <td>45</td>\n",
       "      <td>Justice League</td>\n",
       "      <td>287105</td>\n",
       "      <td>(2017)</td>\n",
       "    </tr>\n",
       "    <tr>\n",
       "      <th>12</th>\n",
       "      <td>8.2</td>\n",
       "      <td>88</td>\n",
       "      <td>Tre manifesti a Ebbing, Missouri</td>\n",
       "      <td>282803</td>\n",
       "      <td>(2017)</td>\n",
       "    </tr>\n",
       "    <tr>\n",
       "      <th>13</th>\n",
       "      <td>7.4</td>\n",
       "      <td>87</td>\n",
       "      <td>La forma dell'acqua</td>\n",
       "      <td>254900</td>\n",
       "      <td>(2017)</td>\n",
       "    </tr>\n",
       "    <tr>\n",
       "      <th>14</th>\n",
       "      <td>7.5</td>\n",
       "      <td>75</td>\n",
       "      <td>John Wick - Capitolo 2</td>\n",
       "      <td>244753</td>\n",
       "      <td>(2017)</td>\n",
       "    </tr>\n",
       "    <tr>\n",
       "      <th>15</th>\n",
       "      <td>8.4</td>\n",
       "      <td>81</td>\n",
       "      <td>Coco</td>\n",
       "      <td>222280</td>\n",
       "      <td>(I) (2017)</td>\n",
       "    </tr>\n",
       "    <tr>\n",
       "      <th>16</th>\n",
       "      <td>7.2</td>\n",
       "      <td>65</td>\n",
       "      <td>La bella e la bestia</td>\n",
       "      <td>217790</td>\n",
       "      <td>(2017)</td>\n",
       "    </tr>\n",
       "    <tr>\n",
       "      <th>17</th>\n",
       "      <td>6.7</td>\n",
       "      <td>62</td>\n",
       "      <td>Kong: Skull Island</td>\n",
       "      <td>216961</td>\n",
       "      <td>(2017)</td>\n",
       "    </tr>\n",
       "    <tr>\n",
       "      <th>18</th>\n",
       "      <td>6.4</td>\n",
       "      <td>65</td>\n",
       "      <td>Alien: Covenant</td>\n",
       "      <td>210140</td>\n",
       "      <td>(2017)</td>\n",
       "    </tr>\n",
       "    <tr>\n",
       "      <th>19</th>\n",
       "      <td>6.6</td>\n",
       "      <td>39</td>\n",
       "      <td>Pirati dei Caraibi - La vendetta di Salazar</td>\n",
       "      <td>208003</td>\n",
       "      <td>(2017)</td>\n",
       "    </tr>\n",
       "    <tr>\n",
       "      <th>20</th>\n",
       "      <td>7.0</td>\n",
       "      <td>58</td>\n",
       "      <td>Jumanji - Benvenuti nella giungla</td>\n",
       "      <td>207908</td>\n",
       "      <td>(2017)</td>\n",
       "    </tr>\n",
       "    <tr>\n",
       "      <th>21</th>\n",
       "      <td>6.8</td>\n",
       "      <td>44</td>\n",
       "      <td>Kingsman: Il cerchio d'oro</td>\n",
       "      <td>204467</td>\n",
       "      <td>(2017)</td>\n",
       "    </tr>\n",
       "    <tr>\n",
       "      <th>22</th>\n",
       "      <td>7.5</td>\n",
       "      <td>82</td>\n",
       "      <td>The War - Il pianeta delle scimmie</td>\n",
       "      <td>185315</td>\n",
       "      <td>(2017)</td>\n",
       "    </tr>\n",
       "    <tr>\n",
       "      <th>23</th>\n",
       "      <td>6.7</td>\n",
       "      <td>56</td>\n",
       "      <td>Fast &amp; Furious 8</td>\n",
       "      <td>168077</td>\n",
       "      <td>(2017)</td>\n",
       "    </tr>\n",
       "    <tr>\n",
       "      <th>24</th>\n",
       "      <td>6.6</td>\n",
       "      <td>54</td>\n",
       "      <td>Life: Non oltrepassare il limite</td>\n",
       "      <td>165489</td>\n",
       "      <td>(I) (2017)</td>\n",
       "    </tr>\n",
       "    <tr>\n",
       "      <th>25</th>\n",
       "      <td>6.4</td>\n",
       "      <td>52</td>\n",
       "      <td>Ghost in the Shell</td>\n",
       "      <td>161483</td>\n",
       "      <td>(2017)</td>\n",
       "    </tr>\n",
       "    <tr>\n",
       "      <th>26</th>\n",
       "      <td>6.5</td>\n",
       "      <td>52</td>\n",
       "      <td>Assassinio sull'Orient Express</td>\n",
       "      <td>158117</td>\n",
       "      <td>(2017)</td>\n",
       "    </tr>\n",
       "    <tr>\n",
       "      <th>27</th>\n",
       "      <td>7.7</td>\n",
       "      <td>48</td>\n",
       "      <td>The Greatest Showman</td>\n",
       "      <td>157123</td>\n",
       "      <td>(2017)</td>\n",
       "    </tr>\n",
       "    <tr>\n",
       "      <th>28</th>\n",
       "      <td>6.8</td>\n",
       "      <td>41</td>\n",
       "      <td>King Arthur: Il potere della spada</td>\n",
       "      <td>156463</td>\n",
       "      <td>(2017)</td>\n",
       "    </tr>\n",
       "    <tr>\n",
       "      <th>29</th>\n",
       "      <td>7.5</td>\n",
       "      <td>94</td>\n",
       "      <td>Lady Bird</td>\n",
       "      <td>148686</td>\n",
       "      <td>(2017)</td>\n",
       "    </tr>\n",
       "    <tr>\n",
       "      <th>30</th>\n",
       "      <td>6.9</td>\n",
       "      <td>47</td>\n",
       "      <td>Come ti ammazzo il bodyguard</td>\n",
       "      <td>145484</td>\n",
       "      <td>(2017)</td>\n",
       "    </tr>\n",
       "    <tr>\n",
       "      <th>31</th>\n",
       "      <td>7.7</td>\n",
       "      <td>73</td>\n",
       "      <td>I segreti di Wind River</td>\n",
       "      <td>145378</td>\n",
       "      <td>(2017)</td>\n",
       "    </tr>\n",
       "    <tr>\n",
       "      <th>32</th>\n",
       "      <td>5.5</td>\n",
       "      <td>34</td>\n",
       "      <td>La mummia</td>\n",
       "      <td>141864</td>\n",
       "      <td>(2017)</td>\n",
       "    </tr>\n",
       "    <tr>\n",
       "      <th>33</th>\n",
       "      <td>6.6</td>\n",
       "      <td>75</td>\n",
       "      <td>Madre!</td>\n",
       "      <td>136248</td>\n",
       "      <td>(2017)</td>\n",
       "    </tr>\n",
       "    <tr>\n",
       "      <th>34</th>\n",
       "      <td>6.4</td>\n",
       "      <td>29</td>\n",
       "      <td>Bright</td>\n",
       "      <td>135975</td>\n",
       "      <td>(I) (2017)</td>\n",
       "    </tr>\n",
       "    <tr>\n",
       "      <th>35</th>\n",
       "      <td>6.7</td>\n",
       "      <td>63</td>\n",
       "      <td>Atomica bionda</td>\n",
       "      <td>135705</td>\n",
       "      <td>(2017)</td>\n",
       "    </tr>\n",
       "    <tr>\n",
       "      <th>36</th>\n",
       "      <td>6.5</td>\n",
       "      <td>51</td>\n",
       "      <td>Valerian e la città dei mille pianeti</td>\n",
       "      <td>127322</td>\n",
       "      <td>(2017)</td>\n",
       "    </tr>\n",
       "    <tr>\n",
       "      <th>37</th>\n",
       "      <td>8.0</td>\n",
       "      <td>93</td>\n",
       "      <td>Chiamami col tuo nome</td>\n",
       "      <td>127089</td>\n",
       "      <td>(2017)</td>\n",
       "    </tr>\n",
       "    <tr>\n",
       "      <th>38</th>\n",
       "      <td>5.6</td>\n",
       "      <td>37</td>\n",
       "      <td>Baywatch</td>\n",
       "      <td>117671</td>\n",
       "      <td>(2017)</td>\n",
       "    </tr>\n",
       "    <tr>\n",
       "      <th>39</th>\n",
       "      <td>7.2</td>\n",
       "      <td>65</td>\n",
       "      <td>Barry Seal - Una storia americana</td>\n",
       "      <td>116421</td>\n",
       "      <td>(2017)</td>\n",
       "    </tr>\n",
       "    <tr>\n",
       "      <th>40</th>\n",
       "      <td>7.4</td>\n",
       "      <td>75</td>\n",
       "      <td>L'ora più buia</td>\n",
       "      <td>114382</td>\n",
       "      <td>(2017)</td>\n",
       "    </tr>\n",
       "    <tr>\n",
       "      <th>41</th>\n",
       "      <td>7.5</td>\n",
       "      <td>77</td>\n",
       "      <td>Tonya</td>\n",
       "      <td>112869</td>\n",
       "      <td>(2017)</td>\n",
       "    </tr>\n",
       "    <tr>\n",
       "      <th>42</th>\n",
       "      <td>5.2</td>\n",
       "      <td>27</td>\n",
       "      <td>Transformers - L'ultimo cavaliere</td>\n",
       "      <td>106763</td>\n",
       "      <td>(2017)</td>\n",
       "    </tr>\n",
       "    <tr>\n",
       "      <th>43</th>\n",
       "      <td>7.3</td>\n",
       "      <td>75</td>\n",
       "      <td>Lego Batman - Il film</td>\n",
       "      <td>105033</td>\n",
       "      <td>(2017)</td>\n",
       "    </tr>\n",
       "    <tr>\n",
       "      <th>44</th>\n",
       "      <td>5.7</td>\n",
       "      <td>34</td>\n",
       "      <td>La Torre Nera</td>\n",
       "      <td>97878</td>\n",
       "      <td>(2017)</td>\n",
       "    </tr>\n",
       "    <tr>\n",
       "      <th>45</th>\n",
       "      <td>7.5</td>\n",
       "      <td>76</td>\n",
       "      <td>The Disaster Artist</td>\n",
       "      <td>96042</td>\n",
       "      <td>(2017)</td>\n",
       "    </tr>\n",
       "    <tr>\n",
       "      <th>46</th>\n",
       "      <td>7.0</td>\n",
       "      <td>78</td>\n",
       "      <td>La truffa dei Logan</td>\n",
       "      <td>94523</td>\n",
       "      <td>(2017)</td>\n",
       "    </tr>\n",
       "  </tbody>\n",
       "</table>\n",
       "</div>"
      ],
      "text/plain": [
       "    imdb  metascore                                        movie   votes  \\\n",
       "0    8.1         77                        Logan - The Wolverine  512052   \n",
       "1    7.5         76                                 Wonder Woman  439343   \n",
       "2    8.0         94                                      Dunkirk  421681   \n",
       "3    7.2         85                  Star Wars - Gli ultimi Jedi  418627   \n",
       "4    7.7         67              Guardiani della Galassia Vol. 2  414354   \n",
       "5    7.9         74                               Thor: Ragnarok  391613   \n",
       "6    7.5         73                       Spider-Man: Homecoming  361512   \n",
       "7    7.7         84                              Scappa: Get Out  335469   \n",
       "8    8.0         81                            Blade Runner 2049  334839   \n",
       "9    7.6         86            Baby Driver - Il genio della fuga  326930   \n",
       "10   7.4         69                                           It  309582   \n",
       "11   6.6         45                               Justice League  287105   \n",
       "12   8.2         88             Tre manifesti a Ebbing, Missouri  282803   \n",
       "13   7.4         87                          La forma dell'acqua  254900   \n",
       "14   7.5         75                       John Wick - Capitolo 2  244753   \n",
       "15   8.4         81                                         Coco  222280   \n",
       "16   7.2         65                         La bella e la bestia  217790   \n",
       "17   6.7         62                           Kong: Skull Island  216961   \n",
       "18   6.4         65                              Alien: Covenant  210140   \n",
       "19   6.6         39  Pirati dei Caraibi - La vendetta di Salazar  208003   \n",
       "20   7.0         58            Jumanji - Benvenuti nella giungla  207908   \n",
       "21   6.8         44                   Kingsman: Il cerchio d'oro  204467   \n",
       "22   7.5         82           The War - Il pianeta delle scimmie  185315   \n",
       "23   6.7         56                             Fast & Furious 8  168077   \n",
       "24   6.6         54             Life: Non oltrepassare il limite  165489   \n",
       "25   6.4         52                           Ghost in the Shell  161483   \n",
       "26   6.5         52               Assassinio sull'Orient Express  158117   \n",
       "27   7.7         48                         The Greatest Showman  157123   \n",
       "28   6.8         41           King Arthur: Il potere della spada  156463   \n",
       "29   7.5         94                                    Lady Bird  148686   \n",
       "30   6.9         47                 Come ti ammazzo il bodyguard  145484   \n",
       "31   7.7         73                      I segreti di Wind River  145378   \n",
       "32   5.5         34                                    La mummia  141864   \n",
       "33   6.6         75                                       Madre!  136248   \n",
       "34   6.4         29                                       Bright  135975   \n",
       "35   6.7         63                               Atomica bionda  135705   \n",
       "36   6.5         51        Valerian e la città dei mille pianeti  127322   \n",
       "37   8.0         93                        Chiamami col tuo nome  127089   \n",
       "38   5.6         37                                     Baywatch  117671   \n",
       "39   7.2         65            Barry Seal - Una storia americana  116421   \n",
       "40   7.4         75                               L'ora più buia  114382   \n",
       "41   7.5         77                                        Tonya  112869   \n",
       "42   5.2         27            Transformers - L'ultimo cavaliere  106763   \n",
       "43   7.3         75                        Lego Batman - Il film  105033   \n",
       "44   5.7         34                                La Torre Nera   97878   \n",
       "45   7.5         76                          The Disaster Artist   96042   \n",
       "46   7.0         78                          La truffa dei Logan   94523   \n",
       "\n",
       "          year  \n",
       "0       (2017)  \n",
       "1       (2017)  \n",
       "2       (2017)  \n",
       "3       (2017)  \n",
       "4       (2017)  \n",
       "5       (2017)  \n",
       "6       (2017)  \n",
       "7   (I) (2017)  \n",
       "8       (2017)  \n",
       "9       (2017)  \n",
       "10  (I) (2017)  \n",
       "11      (2017)  \n",
       "12      (2017)  \n",
       "13      (2017)  \n",
       "14      (2017)  \n",
       "15  (I) (2017)  \n",
       "16      (2017)  \n",
       "17      (2017)  \n",
       "18      (2017)  \n",
       "19      (2017)  \n",
       "20      (2017)  \n",
       "21      (2017)  \n",
       "22      (2017)  \n",
       "23      (2017)  \n",
       "24  (I) (2017)  \n",
       "25      (2017)  \n",
       "26      (2017)  \n",
       "27      (2017)  \n",
       "28      (2017)  \n",
       "29      (2017)  \n",
       "30      (2017)  \n",
       "31      (2017)  \n",
       "32      (2017)  \n",
       "33      (2017)  \n",
       "34  (I) (2017)  \n",
       "35      (2017)  \n",
       "36      (2017)  \n",
       "37      (2017)  \n",
       "38      (2017)  \n",
       "39      (2017)  \n",
       "40      (2017)  \n",
       "41      (2017)  \n",
       "42      (2017)  \n",
       "43      (2017)  \n",
       "44      (2017)  \n",
       "45      (2017)  \n",
       "46      (2017)  "
      ]
     },
     "execution_count": 24,
     "metadata": {},
     "output_type": "execute_result"
    }
   ],
   "source": [
    "print(test_df.info())\n",
    "test_df"
   ]
  },
  {
   "cell_type": "code",
   "execution_count": null,
   "metadata": {},
   "outputs": [],
   "source": []
  }
 ],
 "metadata": {
  "kernelspec": {
   "display_name": "Python 2",
   "language": "python",
   "name": "python2"
  },
  "language_info": {
   "codemirror_mode": {
    "name": "ipython",
    "version": 2
   },
   "file_extension": ".py",
   "mimetype": "text/x-python",
   "name": "python",
   "nbconvert_exporter": "python",
   "pygments_lexer": "ipython2",
   "version": "2.7.15"
  },
  "latex_envs": {
   "LaTeX_envs_menu_present": true,
   "autoclose": false,
   "autocomplete": true,
   "bibliofile": "biblio.bib",
   "cite_by": "apalike",
   "current_citInitial": 1,
   "eqLabelWithNumbers": true,
   "eqNumInitial": 1,
   "hotkeys": {
    "equation": "Ctrl-E",
    "itemize": "Ctrl-I"
   },
   "labels_anchors": false,
   "latex_user_defs": false,
   "report_style_numbering": false,
   "user_envs_cfg": false
  },
  "toc": {
   "base_numbering": 1,
   "nav_menu": {},
   "number_sections": false,
   "sideBar": true,
   "skip_h1_title": false,
   "title_cell": "Table of Contents",
   "title_sidebar": "Contents",
   "toc_cell": false,
   "toc_position": {},
   "toc_section_display": true,
   "toc_window_display": true
  }
 },
 "nbformat": 4,
 "nbformat_minor": 2
}
